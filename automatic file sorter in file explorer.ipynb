{
 "cells": [
  {
   "cell_type": "markdown",
   "id": "a1d0e86f-0959-4acf-a5b0-f9d6b4bbfee8",
   "metadata": {},
   "source": [
    "# AUTOMATIC FILE SORTER IN FILE EXPLORER"
   ]
  },
  {
   "cell_type": "code",
   "execution_count": 2,
   "id": "96cc7d8e-6d55-41ff-bf1d-a17073eebef1",
   "metadata": {},
   "outputs": [],
   "source": [
    "import os,shutil"
   ]
  },
  {
   "cell_type": "code",
   "execution_count": 9,
   "id": "1a2f4088-fc47-447f-a5ef-1532b9e40c9f",
   "metadata": {},
   "outputs": [],
   "source": [
    "path = \"/home/philip-kasumbi/Pictures/\""
   ]
  },
  {
   "cell_type": "code",
   "execution_count": 10,
   "id": "e4e3cd07-b879-4c8e-9ae2-e208e1ba6943",
   "metadata": {},
   "outputs": [
    {
     "data": {
      "text/plain": [
       "['background.jpg', 'NewItem726.bmp', 'Screenshots', 'webman.png']"
      ]
     },
     "execution_count": 10,
     "metadata": {},
     "output_type": "execute_result"
    }
   ],
   "source": [
    "os.listdir(path)"
   ]
  },
  {
   "cell_type": "code",
   "execution_count": 16,
   "id": "1fa38acd-1dbe-443f-ad32-acded2fc422b",
   "metadata": {},
   "outputs": [
    {
     "name": "stdout",
     "output_type": "stream",
     "text": [
      "['background.jpg', 'NewItem726.bmp', 'bmp files', 'Screenshots', 'png files', 'jpg files', 'webman.png']\n"
     ]
    }
   ],
   "source": [
    "file_name = os.listdir(path)\n",
    "print(file_name)"
   ]
  },
  {
   "cell_type": "code",
   "execution_count": 11,
   "id": "424f354f-856f-4543-bbae-faf1f38a5ee8",
   "metadata": {},
   "outputs": [
    {
     "data": {
      "text/plain": [
       "False"
      ]
     },
     "execution_count": 11,
     "metadata": {},
     "output_type": "execute_result"
    }
   ],
   "source": [
    "os.path.exists(path + 'image files')"
   ]
  },
  {
   "cell_type": "code",
   "execution_count": 14,
   "id": "5d985493-4b7c-4e5e-bcdc-09e459a07dde",
   "metadata": {},
   "outputs": [],
   "source": [
    "folder_names = ['png files','jpg files','bmp files']\n",
    "\n",
    "for loop in range(0,3):\n",
    "    if not os.path.exists(path + folder_names[loop]):\n",
    "        os.makedirs((path + folder_names[loop]))\n",
    "    "
   ]
  },
  {
   "cell_type": "code",
   "execution_count": 22,
   "id": "3bd5beb4-687f-4bd2-aa2f-c6ff27039d67",
   "metadata": {},
   "outputs": [],
   "source": [
    "for file in file_name:\n",
    "    if \".png\" in file and not os.path.exists(path + \"png files/\"+ file):\n",
    "        shutil.move(path + file, path + \"png files/\"+ file)\n",
    "    elif \".jpg\" in file and not os.path.exists(path + \"jpg files/\"+ file):\n",
    "        shutil.move(path + file, path + \"jpg files/\"+ file)\n",
    "    elif \".bmp\" in file and not os.path.exists(path + \"bmp files/\"+ file):\n",
    "        shutil.move(path + file, path + \"bmp files/\"+ file)\n",
    "    "
   ]
  },
  {
   "cell_type": "code",
   "execution_count": null,
   "id": "57645aff-a362-456e-9216-c8b645de9403",
   "metadata": {},
   "outputs": [],
   "source": []
  },
  {
   "cell_type": "code",
   "execution_count": null,
   "id": "1885cc91-9632-4ffc-a7a9-ba8e3e01fbb0",
   "metadata": {},
   "outputs": [],
   "source": []
  },
  {
   "cell_type": "code",
   "execution_count": null,
   "id": "8c15d995-1644-45c9-9f88-ce9284b470c1",
   "metadata": {},
   "outputs": [],
   "source": []
  },
  {
   "cell_type": "code",
   "execution_count": null,
   "id": "68b79f10-2708-4e4d-bbe1-bca9b74a1c57",
   "metadata": {},
   "outputs": [],
   "source": []
  },
  {
   "cell_type": "code",
   "execution_count": null,
   "id": "c8cc131b-5a12-4c8f-8e55-d9ff5e9c4cea",
   "metadata": {},
   "outputs": [],
   "source": []
  },
  {
   "cell_type": "code",
   "execution_count": null,
   "id": "7e490771-21a9-4f7c-8bb4-e92ebd7d9104",
   "metadata": {},
   "outputs": [],
   "source": []
  },
  {
   "cell_type": "code",
   "execution_count": null,
   "id": "4b507e7c-d249-44c9-b768-8c722d78dcad",
   "metadata": {},
   "outputs": [],
   "source": []
  },
  {
   "cell_type": "code",
   "execution_count": null,
   "id": "5d637f19-b9e4-4f9b-923d-eaebc6779600",
   "metadata": {},
   "outputs": [],
   "source": []
  },
  {
   "cell_type": "code",
   "execution_count": null,
   "id": "d9a58471-4ede-459f-97d4-b0d2b4318ea2",
   "metadata": {},
   "outputs": [],
   "source": []
  },
  {
   "cell_type": "code",
   "execution_count": null,
   "id": "633764a4-daa9-4a1d-a34b-e6801adee3df",
   "metadata": {},
   "outputs": [],
   "source": []
  },
  {
   "cell_type": "code",
   "execution_count": null,
   "id": "ece8e1ad-3438-4d54-a551-238b239bdf54",
   "metadata": {},
   "outputs": [],
   "source": []
  },
  {
   "cell_type": "code",
   "execution_count": null,
   "id": "0356cbe0-2a0f-409a-ab07-09417bdbc5e9",
   "metadata": {},
   "outputs": [],
   "source": []
  },
  {
   "cell_type": "code",
   "execution_count": null,
   "id": "923cbfc3-436c-4d47-9eec-a80675ad8977",
   "metadata": {},
   "outputs": [],
   "source": []
  },
  {
   "cell_type": "code",
   "execution_count": null,
   "id": "dc572dad-a3d3-445a-837c-423a18619d63",
   "metadata": {},
   "outputs": [],
   "source": []
  },
  {
   "cell_type": "code",
   "execution_count": null,
   "id": "670c2821-72ea-44b4-9170-582e13001bdc",
   "metadata": {},
   "outputs": [],
   "source": []
  }
 ],
 "metadata": {
  "kernelspec": {
   "display_name": "Python [conda env:base] *",
   "language": "python",
   "name": "conda-base-py"
  },
  "language_info": {
   "codemirror_mode": {
    "name": "ipython",
    "version": 3
   },
   "file_extension": ".py",
   "mimetype": "text/x-python",
   "name": "python",
   "nbconvert_exporter": "python",
   "pygments_lexer": "ipython3",
   "version": "3.13.5"
  }
 },
 "nbformat": 4,
 "nbformat_minor": 5
}
